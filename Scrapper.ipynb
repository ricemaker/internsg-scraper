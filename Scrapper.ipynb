{
 "cells": [
  {
   "cell_type": "code",
   "execution_count": 16,
   "metadata": {},
   "outputs": [],
   "source": [
    "import requests\n",
    "from bs4 import BeautifulSoup\n",
    "import pandas as pd"
   ]
  },
  {
   "cell_type": "code",
   "execution_count": null,
   "metadata": {},
   "outputs": [],
   "source": [
    "#create blank dataframe\n",
    "df = pd.DataFrame(columns = [\"Company\", \"Title\", \"Period\", \"Location\",\"Link\"])\n",
    "\n",
    "#starting the loop (modify the range to the page numbers targeted)\n",
    "for i in range(1,121):\n",
    "    url = \"https://www.internsg.com/jobs/{}/\".format(i)\n",
    "    html = requests.get(url).text\n",
    "    soup = BeautifulSoup(html)\n",
    "\n",
    "    #getting rid of all span tags after the company name, period, location\n",
    "    for x in soup.find_all(\"span\",[\"text-monospace badge badge-warning badge-tooltip\",\n",
    "                                   \"text-monospace badge badge-info badge-tooltip mr-1\",\n",
    "                                  \"text-monospace badge badge-primary badge-tooltip mr-1\",\n",
    "                                  \"text-monospace badge badge-secondary badge-tooltip mr-1\",\n",
    "                                  \"text-monospace badge badge-dark badge-tooltip mr-1\"]):\n",
    "        x.decompose()\n",
    "\n",
    "    #getting a list of company names, job titles period, location, and links\n",
    "    cjp = [[element.text for element in soup.find_all(\"div\", \"ast-col-md-3\")]\n",
    "     [i::3] for i in range(3)]\n",
    "    location = [element.text for element in soup.find_all(\"span\",\"job-listing-dt\")]\n",
    "    link = [link.find(\"a\").get(\"href\") for link in soup.find_all(\"div\",\"ast-col-md-3\") if link.find(\"a\") != None]\n",
    "    \n",
    "    #appending to blank dataframe\n",
    "    pg = pd.DataFrame(cjp).set_index(0).transpose().reset_index(drop = True)\n",
    "    pg[\"Location\"] = location\n",
    "    pg[\"Link\"] = link\n",
    "    df = df.append(pg,ignore_index = True)\n",
    "df"
   ]
  },
  {
   "cell_type": "code",
   "execution_count": null,
   "metadata": {},
   "outputs": [],
   "source": []
  }
 ],
 "metadata": {
  "kernelspec": {
   "display_name": "Python 3",
   "language": "python",
   "name": "python3"
  },
  "language_info": {
   "codemirror_mode": {
    "name": "ipython",
    "version": 3
   },
   "file_extension": ".py",
   "mimetype": "text/x-python",
   "name": "python",
   "nbconvert_exporter": "python",
   "pygments_lexer": "ipython3",
   "version": "3.7.6"
  }
 },
 "nbformat": 4,
 "nbformat_minor": 4
}
